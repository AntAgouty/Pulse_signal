{
 "cells": [
  {
   "cell_type": "markdown",
   "metadata": {},
   "source": [
    "# 1. Data"
   ]
  },
  {
   "cell_type": "markdown",
   "metadata": {},
   "source": [
    "## 1.1 Loading and combining the data together"
   ]
  },
  {
   "cell_type": "code",
   "execution_count": null,
   "metadata": {},
   "outputs": [],
   "source": [
    "\n",
    "from Helper_functions import load_and_combine_parquet_files, average_the_values, apply_kalman_filter, parallel_kalman_filter"
   ]
  },
  {
   "cell_type": "code",
   "execution_count": null,
   "metadata": {},
   "outputs": [],
   "source": [
    "\n",
    "import os\n",
    "directory_path = os.getcwd()\n",
    "combined_results = load_and_combine_parquet_files(directory_path)\n",
    "\n",
    "napetost_all_df = combined_results[\"napetost_all\"]\n",
    "napetost_wavelet_df = combined_results[\"napetost_wavelet\"]\n",
    "tok_all_df = combined_results[\"tok_all\"]\n",
    "tok_wavelet_df = combined_results[\"tok_wavelet\"]"
   ]
  },
  {
   "cell_type": "markdown",
   "metadata": {},
   "source": [
    "## 1.2 Checking the sampling frequencies"
   ]
  },
  {
   "cell_type": "code",
   "execution_count": null,
   "metadata": {},
   "outputs": [],
   "source": [
    "# Calculate the total number of data points for each file\n",
    "data_points_per_file = napetost_wavelet_df.groupby(level=0).size()\n",
    "\n",
    "# Calculate the sampling frequency for each file\n",
    "sampling_frequency_per_file = data_points_per_file / 900\n",
    "\n",
    "# Assign the sampling frequency to a new column in the DataFrame\n",
    "napetost_wavelet_df['sampling frequency'] = sampling_frequency_per_file.reindex(napetost_wavelet_df.index, level=0)\n",
    "# Find unique sampling frequencies and filter the DataFrame to keep only unique ones\n",
    "unique_sampling_frequencies = napetost_wavelet_df['sampling frequency'].drop_duplicates()\n",
    "# Filter the original DataFrame to show rows with unique sampling frequencies\n",
    "unique_frequency_df = napetost_wavelet_df[napetost_wavelet_df['sampling frequency'].isin(unique_sampling_frequencies)]\n",
    "\n",
    "# Display the full rows for unique sampling frequencies\n",
    "print(unique_sampling_frequencies.to_markdown())"
   ]
  },
  {
   "cell_type": "markdown",
   "metadata": {},
   "source": [
    "# 2. Extracting useful information "
   ]
  },
  {
   "cell_type": "markdown",
   "metadata": {},
   "source": [
    "## 2.1 Avreaging values "
   ]
  },
  {
   "cell_type": "code",
   "execution_count": null,
   "metadata": {},
   "outputs": [],
   "source": [
    "average_napetost_all_df = average_the_values(napetost_all_df, x_col=\"napetost_x\", y_col=\"napetost_y\", interval_duration_seconds = 5)\n",
    "average_napetost_all_df\n",
    "apply_kalman_filter(average_napetost_all_df, x_col=\"x_values\", y_col=\"averaged\")"
   ]
  },
  {
   "cell_type": "code",
   "execution_count": null,
   "metadata": {},
   "outputs": [],
   "source": [
    "import plotly.graph_objects as go\n",
    "\n",
    "# Select the first 10 unique files\n",
    "first_10_files = average_napetost_all_df.index.unique()\n",
    "filtered_df = average_napetost_all_df[average_napetost_all_df.index.isin(first_10_files)]\n",
    "\n",
    "# Create a Plotly figure\n",
    "fig = go.Figure()\n",
    "\n",
    "# Add a trace for each measurement file\n",
    "for file_name in filtered_df.index.unique():\n",
    "    file_data = filtered_df[filtered_df.index == file_name]\n",
    "    fig.add_trace(go.Scatter(\n",
    "        x=file_data['interval_bin'],\n",
    "        y=file_data['averaged'],\n",
    "        mode='lines+markers',\n",
    "        name=file_name\n",
    "    ))\n",
    "\n",
    "# Update layout for readability and height\n",
    "fig.update_layout(\n",
    "    title=\"30-Second Average Y-Values for First 10 Measurements\",\n",
    "    xaxis_title=\"Interval Bin (ticks)\",\n",
    "    yaxis_title=\"30-Second Average Y-Value\",\n",
    "    template=\"plotly_white\",\n",
    "    legend_title=\"Measurement Files\",\n",
    "    height=1500  # Increase height for a tall plot\n",
    ")\n",
    "\n",
    "# Show the plot\n",
    "fig.show()\n"
   ]
  },
  {
   "cell_type": "code",
   "execution_count": null,
   "metadata": {},
   "outputs": [],
   "source": [
    "import plotly.graph_objects as go\n",
    "\n",
    "# Select the first 10 unique files\n",
    "first_10_files = average_napetost_all_df.index.unique()\n",
    "filtered_df = average_napetost_all_df[average_napetost_all_df.index.isin(first_10_files)]\n",
    "\n",
    "# Create a Plotly figure\n",
    "fig = go.Figure()\n",
    "\n",
    "# Add a trace for each measurement file\n",
    "for file_name in filtered_df.index.unique():\n",
    "    file_data = filtered_df[filtered_df.index == file_name]\n",
    "    fig.add_trace(go.Scatter(\n",
    "        x=file_data['interval_bin'],\n",
    "        y=file_data['kalman_filtered'],\n",
    "        mode='lines+markers',\n",
    "        name=file_name\n",
    "    ))\n",
    "\n",
    "# Update layout for readability and height\n",
    "fig.update_layout(\n",
    "    title=\"30-Second Average Y-Values for First 10 Measurements\",\n",
    "    xaxis_title=\"Interval Bin (ticks)\",\n",
    "    yaxis_title=\"30-Second Average Y-Value\",\n",
    "    template=\"plotly_white\",\n",
    "    legend_title=\"Measurement Files\",\n",
    "    height=1500  # Increase height for a tall plot\n",
    ")\n",
    "\n",
    "# Show the plot\n",
    "fig.show()\n"
   ]
  }
 ],
 "metadata": {
  "kernelspec": {
   "display_name": ".venv",
   "language": "python",
   "name": "python3"
  },
  "language_info": {
   "codemirror_mode": {
    "name": "ipython",
    "version": 3
   },
   "file_extension": ".py",
   "mimetype": "text/x-python",
   "name": "python",
   "nbconvert_exporter": "python",
   "pygments_lexer": "ipython3",
   "version": "3.8.3"
  }
 },
 "nbformat": 4,
 "nbformat_minor": 2
}
