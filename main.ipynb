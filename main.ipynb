{
 "cells": [
  {
   "cell_type": "code",
   "execution_count": 10,
   "metadata": {},
   "outputs": [],
   "source": [
    "import pandas as pd\n",
    "import os\n",
    "\n",
    "def load_and_combine_parquet_files(directory):\n",
    "    # Define file patterns for different result types\n",
    "    result_patterns = {\n",
    "        \"napetost_all\": \"results_napetost_all_batch_\",\n",
    "        \"napetost_wavelet\": \"results_napetost_wavelet_batch_\",\n",
    "        \"tok_all\": \"results_tok_all_batch_\",\n",
    "        \"tok_wavelet\": \"results_tok_wavelet_batch_\"\n",
    "    }\n",
    "\n",
    "    combined_data = {}\n",
    "\n",
    "    for result_type, pattern in result_patterns.items():\n",
    "        # List all files matching the pattern for the result type\n",
    "        files = [f for f in os.listdir(directory) if f.startswith(pattern) and f.endswith(\".parquet\")]\n",
    "        full_paths = [os.path.join(directory, f) for f in sorted(files)]\n",
    "        \n",
    "        # Read each file, keeping the original index, and concatenate without resetting the index\n",
    "        dfs = [pd.read_parquet(path) for path in full_paths]\n",
    "        combined_data[result_type] = pd.concat(dfs, axis=0)\n",
    "\n",
    "    return combined_data\n",
    "\n",
    "directory_path = \"C:/Users/User/Documents/local_repo/stimulation_analysis_git\"\n",
    "combined_results = load_and_combine_parquet_files(directory_path)\n",
    "\n",
    "napetost_all_df = combined_results[\"napetost_all\"]\n",
    "napetost_wavelet_df = combined_results[\"napetost_wavelet\"]\n",
    "tok_all_df = combined_results[\"tok_all\"]\n",
    "tok_wavelet_df = combined_results[\"tok_wavelet\"]\n"
   ]
  }
 ],
 "metadata": {
  "kernelspec": {
   "display_name": ".venv",
   "language": "python",
   "name": "python3"
  },
  "language_info": {
   "codemirror_mode": {
    "name": "ipython",
    "version": 3
   },
   "file_extension": ".py",
   "mimetype": "text/x-python",
   "name": "python",
   "nbconvert_exporter": "python",
   "pygments_lexer": "ipython3",
   "version": "3.8.3"
  }
 },
 "nbformat": 4,
 "nbformat_minor": 2
}
