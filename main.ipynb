{
 "cells": [
  {
   "cell_type": "code",
   "execution_count": null,
   "metadata": {},
   "outputs": [],
   "source": [
    "import os\n",
    "import pandas as pd\n",
    "from Helper_functions import load_and_combine_parquet_files, average_the_values, apply_kalman_filter, parallel_kalman_filter\n",
    "from Ploting_functions import all_plot\n",
    "directory_path = os.getcwd()"
   ]
  },
  {
   "cell_type": "markdown",
   "metadata": {},
   "source": [
    "## 1. Data"
   ]
  },
  {
   "cell_type": "markdown",
   "metadata": {},
   "source": [
    "### 1.1 Loading partical parquets and combining the data together"
   ]
  },
  {
   "cell_type": "code",
   "execution_count": null,
   "metadata": {},
   "outputs": [],
   "source": [
    "combined_results = load_and_combine_parquet_files(f\"{directory_path}/data\")\n",
    "\n",
    "napetost_all_df = combined_results[\"napetost_all\"]\n",
    "napetost_wavelet_df = combined_results[\"napetost_wavelet\"]\n",
    "tok_all_df = combined_results[\"tok_all\"]\n",
    "tok_wavelet_df = combined_results[\"tok_wavelet\"]"
   ]
  },
  {
   "cell_type": "markdown",
   "metadata": {},
   "source": [
    "### 1.2 Loading already combined data in, with Kalman filtering"
   ]
  },
  {
   "cell_type": "code",
   "execution_count": null,
   "metadata": {},
   "outputs": [],
   "source": [
    "napetost_all_df_pre = pd.read_parquet(f\"{directory_path}/data/joined_napetost_wavelet_df.parquet\")"
   ]
  },
  {
   "cell_type": "markdown",
   "metadata": {},
   "source": [
    "### 1.3 Loading in metadata"
   ]
  },
  {
   "cell_type": "code",
   "execution_count": null,
   "metadata": {},
   "outputs": [],
   "source": [
    "metadata = pd.read_excel(f\"{directory_path}/data/metadata.xlsx\")"
   ]
  },
  {
   "cell_type": "markdown",
   "metadata": {},
   "source": [
    "## 2. Analysis"
   ]
  },
  {
   "cell_type": "markdown",
   "metadata": {},
   "source": [
    "### 2.1 Extracting frequency of stimulation from data"
   ]
  },
  {
   "cell_type": "code",
   "execution_count": null,
   "metadata": {},
   "outputs": [],
   "source": [
    "# Calculate the total number of data points for each file\n",
    "data_points_per_file = napetost_wavelet_df.groupby(level=0).size()\n",
    "\n",
    "# Calculate the sampling frequency for each file\n",
    "sampling_frequency_per_file = data_points_per_file / 900\n",
    "\n",
    "# Assign the sampling frequency to a new column in the DataFrame\n",
    "napetost_wavelet_df['sampling frequency'] = sampling_frequency_per_file.reindex(napetost_wavelet_df.index, level=0)\n",
    "# Find unique sampling frequencies and filter the DataFrame to keep only unique ones\n",
    "unique_sampling_frequencies = napetost_wavelet_df['sampling frequency'].drop_duplicates()\n",
    "# Filter the original DataFrame to show rows with unique sampling frequencies\n",
    "unique_frequency_df = napetost_wavelet_df[napetost_wavelet_df['sampling frequency'].isin(unique_sampling_frequencies)]\n",
    "\n",
    "# # Display the full rows for unique sampling frequencies\n",
    "# print(unique_sampling_frequencies.to_markdown())"
   ]
  },
  {
   "cell_type": "markdown",
   "metadata": {},
   "source": [
    "### 2.2 Adding Kalmant post avereged filter"
   ]
  },
  {
   "cell_type": "code",
   "execution_count": null,
   "metadata": {},
   "outputs": [],
   "source": [
    "average_napetost_all_df = average_the_values(napetost_all_df, x_col=\"napetost_x\", y_col=\"napetost_y\", interval_duration_seconds = 5)\n",
    "average_napetost_all_df\n",
    "apply_kalman_filter(average_napetost_all_df, x_col=\"x_values\", y_col=\"averaged\")"
   ]
  },
  {
   "cell_type": "markdown",
   "metadata": {},
   "source": [
    "### 2.3 Extracting protokols for voltage/current measurments"
   ]
  },
  {
   "cell_type": "code",
   "execution_count": null,
   "metadata": {},
   "outputs": [],
   "source": [
    "df = napetost_all_df_pre.reset_index()\n",
    "\n",
    "# Extract unique file names from the 'index' column and convert to DataFrame\n",
    "unique_files = pd.DataFrame(df['index'].unique(), columns=['file_name'])\n",
    "\n",
    "# Extract datetime information from the file_name and create a new column\n",
    "unique_files['datetime'] = pd.to_datetime(\n",
    "    unique_files['file_name'].str.extract(r'(\\d{2}_\\d{2}_\\d{2}_\\d{2}_\\d{2})')[0],\n",
    "    format='%d_%m_%y_%H_%M'\n",
    ")"
   ]
  },
  {
   "cell_type": "code",
   "execution_count": null,
   "metadata": {},
   "outputs": [],
   "source": [
    "Relevant_data = metadata[[\"ime\", \"protokol\", \"dat3\", \"interval\"]]\n",
    "Relevant_data['datetime'] = pd.to_datetime(\n",
    "    Relevant_data['dat3'].str.extract(r'(\\d{2}_\\d{2}_\\d{2}_\\d{2}_\\d{2})')[0],\n",
    "    format='%d_%m_%y_%H_%M'\n",
    ")\n",
    "\n",
    "merged_df = Relevant_data.merge(unique_files, on='datetime', how='outer')\n",
    "\n",
    "print(merged_df.to_markdown())"
   ]
  },
  {
   "cell_type": "markdown",
   "metadata": {},
   "source": [
    "### 2.4 Extracting visit number"
   ]
  },
  {
   "cell_type": "code",
   "execution_count": null,
   "metadata": {},
   "outputs": [],
   "source": [
    "Relevant_data = Relevant_data.sort_values(by=['ime', 'datetime'])\n",
    "\n",
    "# Assign a visit number based on the order of unique 'datetime' entries for each 'ime'\n",
    "# Group by 'ime', then identify unique visit dates with a cumulative count\n",
    "Relevant_data['visit_number'] = Relevant_data.groupby('ime')['datetime'].rank(method='dense').astype(int)\n",
    "\n",
    "# Display the updated DataFrame with the visit sequence number\n",
    "\n",
    "Protokol_visit_number = Relevant_data[['ime', 'datetime', 'visit_number', 'interval', 'protokol']]\n",
    "Protokol_visit_number.to_csv(\"C:/Users/User/Documents/local_repo/MEM_1/NOTEBOOKS/Non-visuazlization_notebooks/R_skripte/LMM_basic/Protokol_visit_number.csv\")"
   ]
  },
  {
   "cell_type": "markdown",
   "metadata": {},
   "source": [
    "## 3. Plot"
   ]
  },
  {
   "cell_type": "code",
   "execution_count": null,
   "metadata": {},
   "outputs": [],
   "source": [
    "all_plot(df = average_napetost_all_df, x_val_col='interval_bin', y_val_col='averaged') "
   ]
  },
  {
   "cell_type": "code",
   "execution_count": null,
   "metadata": {},
   "outputs": [],
   "source": [
    "all_plot(df = average_napetost_all_df, x_val_col='interval_bin', y_val_col='kalman_filtered') "
   ]
  }
 ],
 "metadata": {
  "kernelspec": {
   "display_name": ".venv",
   "language": "python",
   "name": "python3"
  },
  "language_info": {
   "codemirror_mode": {
    "name": "ipython",
    "version": 3
   },
   "file_extension": ".py",
   "mimetype": "text/x-python",
   "name": "python",
   "nbconvert_exporter": "python",
   "pygments_lexer": "ipython3",
   "version": "3.8.3"
  }
 },
 "nbformat": 4,
 "nbformat_minor": 2
}
